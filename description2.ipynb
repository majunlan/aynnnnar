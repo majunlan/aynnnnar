{
 "cells": [
  {
   "cell_type": "code",
   "execution_count": 22,
   "metadata": {},
   "outputs": [],
   "source": [
    "import pandas as pd\n",
    "import matplotlib.pyplot as plt\n",
    "from pyreadstat import pyreadstat\n",
    "import mytools\n",
    "\n",
    "国家认同调查数据表, metadata = pyreadstat.read_sav(R'identity.sav',apply_value_formats=True,formats_as_ordered_category=True)\n",
    "resuit = 国家认同调查数据表['会打多少分'].value_counts(sort=False)"
   ]
  }
 ],
 "metadata": {
  "kernelspec": {
   "display_name": "Python 3",
   "language": "python",
   "name": "python3"
  },
  "language_info": {
   "codemirror_mode": {
    "name": "ipython",
    "version": 3
   },
   "file_extension": ".py",
   "mimetype": "text/x-python",
   "name": "python",
   "nbconvert_exporter": "python",
   "pygments_lexer": "ipython3",
   "version": "3.8.10"
  }
 },
 "nbformat": 4,
 "nbformat_minor": 2
}
