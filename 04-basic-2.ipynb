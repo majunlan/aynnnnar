{
 "cells": [
  {
   "cell_type": "code",
   "execution_count": 7,
   "metadata": {},
   "outputs": [
    {
     "name": "stdout",
     "output_type": "stream",
     "text": [
      "学号为20230502的同学的GitHub地址为：https://github.com/lisi\n"
     ]
    }
   ],
   "source": [
    "students = [  \n",
    "    {  \n",
    "        \"姓名\": \"张三\",  \n",
    "        \"学号\": \"20230501\",  \n",
    "        \"github仓库地址\": \"https://github.com/zhangsan\"  \n",
    "    },  \n",
    "    {  \n",
    "        \"姓名\": \"李四\",  \n",
    "        \"学号\": \"20230502\",  \n",
    "        \"github仓库地址\": \"https://github.com/lisi\"  \n",
    "    },  \n",
    "    {  \n",
    "        \"姓名\": \"王五\",  \n",
    "        \"学号\": \"20230503\",  \n",
    "        \"github仓库地址\": \"https://github.com/wangwu\"  \n",
    "    }  \n",
    "]  \n",
    "  \n",
    "target_name = \"李四\"  # 指定姓名  \n",
    "  \n",
    "for student in students:  \n",
    "    if student[\"姓名\"] == target_name:  \n",
    "        print(f\"学号为{student['学号']}的同学的GitHub地址为：{student['github仓库地址']}\")  \n",
    "        break  \n",
    "else:  \n",
    "    print(f\"没有找到姓名为{target_name}的同学。\")"
   ]
  },
  {
   "cell_type": "code",
   "execution_count": 8,
   "metadata": {},
   "outputs": [],
   "source": [
    "def get_repo_by_name(name,data):\n",
    "    for i in data:\n",
    "        if i[\"姓名\"] == name:\n",
    "            print(i[\"github仓库地址\"])"
   ]
  },
  {
   "cell_type": "code",
   "execution_count": 9,
   "metadata": {},
   "outputs": [
    {
     "name": "stdout",
     "output_type": "stream",
     "text": [
      "https://github.com/lisi\n"
     ]
    }
   ],
   "source": [
    "get_repo_by_name(name=\"李四\",data=students)"
   ]
  }
 ],
 "metadata": {
  "kernelspec": {
   "display_name": "Python 3",
   "language": "python",
   "name": "python3"
  },
  "language_info": {
   "codemirror_mode": {
    "name": "ipython",
    "version": 3
   },
   "file_extension": ".py",
   "mimetype": "text/x-python",
   "name": "python",
   "nbconvert_exporter": "python",
   "pygments_lexer": "ipython3",
   "version": "3.8.10"
  },
  "orig_nbformat": 4
 },
 "nbformat": 4,
 "nbformat_minor": 2
}
